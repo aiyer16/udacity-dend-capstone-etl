{
 "cells": [
  {
   "cell_type": "markdown",
   "metadata": {},
   "source": [
    "# Exploration using Pandas"
   ]
  },
  {
   "cell_type": "code",
   "execution_count": 25,
   "metadata": {},
   "outputs": [],
   "source": [
    "import pandas as pd\n",
    "import os\n",
    "import sys\n",
    "sys.path.insert(1, os.path.abspath('../'))\n",
    "import util"
   ]
  },
  {
   "cell_type": "code",
   "execution_count": 14,
   "metadata": {},
   "outputs": [
    {
     "data": {
      "text/plain": [
       "'/Users/akshayiyer/Dev/GitHub/udacity-dend-capstone-etl/src/test-scripts/../..'"
      ]
     },
     "execution_count": 14,
     "metadata": {},
     "output_type": "execute_result"
    }
   ],
   "source": [
    "base_path = os.path.join(os.path.abspath(''), os.pardir, os.pardir)\n",
    "base_path"
   ]
  },
  {
   "cell_type": "code",
   "execution_count": 17,
   "metadata": {},
   "outputs": [
    {
     "name": "stdout",
     "output_type": "stream",
     "text": [
      "file:///Users/akshayiyer/Dev/GitHub/udacity-dend-capstone-etl/data/delta\n"
     ]
    }
   ],
   "source": [
    "save_filepath = 'file://' + os.path.abspath(os.path.join(base_path, 'data', 'delta'))\n",
    "print(save_filepath)"
   ]
  },
  {
   "cell_type": "code",
   "execution_count": 18,
   "metadata": {},
   "outputs": [
    {
     "data": {
      "text/plain": [
       "'file:///Users/akshayiyer/Dev/GitHub/udacity-dend-capstone-etl/data/tmp'"
      ]
     },
     "execution_count": 18,
     "metadata": {},
     "output_type": "execute_result"
    }
   ],
   "source": [
    "temp_filepath = 'file://' + os.path.abspath(os.path.join(base_path, 'data', 'tmp'))\n",
    "temp_filepath"
   ]
  },
  {
   "cell_type": "code",
   "execution_count": 2,
   "metadata": {},
   "outputs": [],
   "source": [
    "base_url = 'https://datasets.imdbws.com'\n",
    "\n",
    "files_list = [\n",
    "        \"name.basics.tsv.gz\",\n",
    "        \"title.akas.tsv.gz\",\n",
    "        \"title.basics.tsv.gz\",\n",
    "        \"title.crew.tsv.gz\",\n",
    "        \"title.episode.tsv.gz\",\n",
    "        \"title.principals.tsv.gz\",\n",
    "        \"title.ratings.tsv.gz\"]\n",
    "        \n",
    "temp_filepath = os.path.abspath(os.path.join(os.path.abspath(''), os.pardir, 'data', 'tmp'))"
   ]
  },
  {
   "cell_type": "code",
   "execution_count": 3,
   "metadata": {},
   "outputs": [],
   "source": [
    "data = dict()\n",
    "\n",
    "for file in files_list:\n",
    "    data[file] = pd.read_csv(temp_filepath+'/'+file, sep = '\\t', nrows=100, compression='gzip',error_bad_lines=False)"
   ]
  },
  {
   "cell_type": "code",
   "execution_count": 11,
   "metadata": {},
   "outputs": [
    {
     "data": {
      "text/html": [
       "<div>\n",
       "<style scoped>\n",
       "    .dataframe tbody tr th:only-of-type {\n",
       "        vertical-align: middle;\n",
       "    }\n",
       "\n",
       "    .dataframe tbody tr th {\n",
       "        vertical-align: top;\n",
       "    }\n",
       "\n",
       "    .dataframe thead th {\n",
       "        text-align: right;\n",
       "    }\n",
       "</style>\n",
       "<table border=\"1\" class=\"dataframe\">\n",
       "  <thead>\n",
       "    <tr style=\"text-align: right;\">\n",
       "      <th></th>\n",
       "      <th>titleId</th>\n",
       "      <th>ordering</th>\n",
       "      <th>title</th>\n",
       "      <th>region</th>\n",
       "      <th>language</th>\n",
       "      <th>types</th>\n",
       "      <th>attributes</th>\n",
       "      <th>isOriginalTitle</th>\n",
       "    </tr>\n",
       "  </thead>\n",
       "  <tbody>\n",
       "    <tr>\n",
       "      <td>0</td>\n",
       "      <td>tt0000001</td>\n",
       "      <td>1</td>\n",
       "      <td>Carmencita - spanyol tánc</td>\n",
       "      <td>HU</td>\n",
       "      <td>\\N</td>\n",
       "      <td>imdbDisplay</td>\n",
       "      <td>\\N</td>\n",
       "      <td>0</td>\n",
       "    </tr>\n",
       "    <tr>\n",
       "      <td>1</td>\n",
       "      <td>tt0000001</td>\n",
       "      <td>2</td>\n",
       "      <td>Καρμενσίτα</td>\n",
       "      <td>GR</td>\n",
       "      <td>\\N</td>\n",
       "      <td>\\N</td>\n",
       "      <td>\\N</td>\n",
       "      <td>0</td>\n",
       "    </tr>\n",
       "    <tr>\n",
       "      <td>2</td>\n",
       "      <td>tt0000001</td>\n",
       "      <td>3</td>\n",
       "      <td>Карменсита</td>\n",
       "      <td>RU</td>\n",
       "      <td>\\N</td>\n",
       "      <td>\\N</td>\n",
       "      <td>\\N</td>\n",
       "      <td>0</td>\n",
       "    </tr>\n",
       "    <tr>\n",
       "      <td>3</td>\n",
       "      <td>tt0000001</td>\n",
       "      <td>4</td>\n",
       "      <td>Carmencita</td>\n",
       "      <td>US</td>\n",
       "      <td>\\N</td>\n",
       "      <td>\\N</td>\n",
       "      <td>\\N</td>\n",
       "      <td>0</td>\n",
       "    </tr>\n",
       "    <tr>\n",
       "      <td>4</td>\n",
       "      <td>tt0000001</td>\n",
       "      <td>5</td>\n",
       "      <td>Carmencita</td>\n",
       "      <td>\\N</td>\n",
       "      <td>\\N</td>\n",
       "      <td>original</td>\n",
       "      <td>\\N</td>\n",
       "      <td>1</td>\n",
       "    </tr>\n",
       "    <tr>\n",
       "      <td>5</td>\n",
       "      <td>tt0000002</td>\n",
       "      <td>1</td>\n",
       "      <td>Le clown et ses chiens</td>\n",
       "      <td>\\N</td>\n",
       "      <td>\\N</td>\n",
       "      <td>original</td>\n",
       "      <td>\\N</td>\n",
       "      <td>1</td>\n",
       "    </tr>\n",
       "    <tr>\n",
       "      <td>6</td>\n",
       "      <td>tt0000002</td>\n",
       "      <td>2</td>\n",
       "      <td>A bohóc és kutyái</td>\n",
       "      <td>HU</td>\n",
       "      <td>\\N</td>\n",
       "      <td>imdbDisplay</td>\n",
       "      <td>\\N</td>\n",
       "      <td>0</td>\n",
       "    </tr>\n",
       "    <tr>\n",
       "      <td>7</td>\n",
       "      <td>tt0000002</td>\n",
       "      <td>3</td>\n",
       "      <td>Le clown et ses chiens</td>\n",
       "      <td>FR</td>\n",
       "      <td>\\N</td>\n",
       "      <td>\\N</td>\n",
       "      <td>\\N</td>\n",
       "      <td>0</td>\n",
       "    </tr>\n",
       "    <tr>\n",
       "      <td>8</td>\n",
       "      <td>tt0000002</td>\n",
       "      <td>4</td>\n",
       "      <td>Clovnul si cainii sai</td>\n",
       "      <td>RO</td>\n",
       "      <td>\\N</td>\n",
       "      <td>imdbDisplay</td>\n",
       "      <td>\\N</td>\n",
       "      <td>0</td>\n",
       "    </tr>\n",
       "    <tr>\n",
       "      <td>9</td>\n",
       "      <td>tt0000002</td>\n",
       "      <td>5</td>\n",
       "      <td>Клоун и его собаки</td>\n",
       "      <td>RU</td>\n",
       "      <td>\\N</td>\n",
       "      <td>\\N</td>\n",
       "      <td>\\N</td>\n",
       "      <td>0</td>\n",
       "    </tr>\n",
       "  </tbody>\n",
       "</table>\n",
       "</div>"
      ],
      "text/plain": [
       "     titleId  ordering                      title region language  \\\n",
       "0  tt0000001         1  Carmencita - spanyol tánc     HU       \\N   \n",
       "1  tt0000001         2                 Καρμενσίτα     GR       \\N   \n",
       "2  tt0000001         3                 Карменсита     RU       \\N   \n",
       "3  tt0000001         4                 Carmencita     US       \\N   \n",
       "4  tt0000001         5                 Carmencita     \\N       \\N   \n",
       "5  tt0000002         1     Le clown et ses chiens     \\N       \\N   \n",
       "6  tt0000002         2          A bohóc és kutyái     HU       \\N   \n",
       "7  tt0000002         3     Le clown et ses chiens     FR       \\N   \n",
       "8  tt0000002         4      Clovnul si cainii sai     RO       \\N   \n",
       "9  tt0000002         5         Клоун и его собаки     RU       \\N   \n",
       "\n",
       "         types attributes  isOriginalTitle  \n",
       "0  imdbDisplay         \\N                0  \n",
       "1           \\N         \\N                0  \n",
       "2           \\N         \\N                0  \n",
       "3           \\N         \\N                0  \n",
       "4     original         \\N                1  \n",
       "5     original         \\N                1  \n",
       "6  imdbDisplay         \\N                0  \n",
       "7           \\N         \\N                0  \n",
       "8  imdbDisplay         \\N                0  \n",
       "9           \\N         \\N                0  "
      ]
     },
     "execution_count": 11,
     "metadata": {},
     "output_type": "execute_result"
    }
   ],
   "source": [
    "data[\"title.akas.tsv.gz\"].head(10)"
   ]
  },
  {
   "cell_type": "code",
   "execution_count": 12,
   "metadata": {},
   "outputs": [
    {
     "data": {
      "text/html": [
       "<div>\n",
       "<style scoped>\n",
       "    .dataframe tbody tr th:only-of-type {\n",
       "        vertical-align: middle;\n",
       "    }\n",
       "\n",
       "    .dataframe tbody tr th {\n",
       "        vertical-align: top;\n",
       "    }\n",
       "\n",
       "    .dataframe thead th {\n",
       "        text-align: right;\n",
       "    }\n",
       "</style>\n",
       "<table border=\"1\" class=\"dataframe\">\n",
       "  <thead>\n",
       "    <tr style=\"text-align: right;\">\n",
       "      <th></th>\n",
       "      <th>tconst</th>\n",
       "      <th>titleType</th>\n",
       "      <th>primaryTitle</th>\n",
       "      <th>originalTitle</th>\n",
       "      <th>isAdult</th>\n",
       "      <th>startYear</th>\n",
       "      <th>endYear</th>\n",
       "      <th>runtimeMinutes</th>\n",
       "      <th>genres</th>\n",
       "    </tr>\n",
       "  </thead>\n",
       "  <tbody>\n",
       "    <tr>\n",
       "      <td>0</td>\n",
       "      <td>tt0000001</td>\n",
       "      <td>short</td>\n",
       "      <td>Carmencita</td>\n",
       "      <td>Carmencita</td>\n",
       "      <td>0</td>\n",
       "      <td>1894</td>\n",
       "      <td>\\N</td>\n",
       "      <td>1</td>\n",
       "      <td>Documentary,Short</td>\n",
       "    </tr>\n",
       "    <tr>\n",
       "      <td>1</td>\n",
       "      <td>tt0000002</td>\n",
       "      <td>short</td>\n",
       "      <td>Le clown et ses chiens</td>\n",
       "      <td>Le clown et ses chiens</td>\n",
       "      <td>0</td>\n",
       "      <td>1892</td>\n",
       "      <td>\\N</td>\n",
       "      <td>5</td>\n",
       "      <td>Animation,Short</td>\n",
       "    </tr>\n",
       "    <tr>\n",
       "      <td>2</td>\n",
       "      <td>tt0000003</td>\n",
       "      <td>short</td>\n",
       "      <td>Pauvre Pierrot</td>\n",
       "      <td>Pauvre Pierrot</td>\n",
       "      <td>0</td>\n",
       "      <td>1892</td>\n",
       "      <td>\\N</td>\n",
       "      <td>4</td>\n",
       "      <td>Animation,Comedy,Romance</td>\n",
       "    </tr>\n",
       "    <tr>\n",
       "      <td>3</td>\n",
       "      <td>tt0000004</td>\n",
       "      <td>short</td>\n",
       "      <td>Un bon bock</td>\n",
       "      <td>Un bon bock</td>\n",
       "      <td>0</td>\n",
       "      <td>1892</td>\n",
       "      <td>\\N</td>\n",
       "      <td>\\N</td>\n",
       "      <td>Animation,Short</td>\n",
       "    </tr>\n",
       "    <tr>\n",
       "      <td>4</td>\n",
       "      <td>tt0000005</td>\n",
       "      <td>short</td>\n",
       "      <td>Blacksmith Scene</td>\n",
       "      <td>Blacksmith Scene</td>\n",
       "      <td>0</td>\n",
       "      <td>1893</td>\n",
       "      <td>\\N</td>\n",
       "      <td>1</td>\n",
       "      <td>Comedy,Short</td>\n",
       "    </tr>\n",
       "    <tr>\n",
       "      <td>5</td>\n",
       "      <td>tt0000006</td>\n",
       "      <td>short</td>\n",
       "      <td>Chinese Opium Den</td>\n",
       "      <td>Chinese Opium Den</td>\n",
       "      <td>0</td>\n",
       "      <td>1894</td>\n",
       "      <td>\\N</td>\n",
       "      <td>1</td>\n",
       "      <td>Short</td>\n",
       "    </tr>\n",
       "    <tr>\n",
       "      <td>6</td>\n",
       "      <td>tt0000007</td>\n",
       "      <td>short</td>\n",
       "      <td>Corbett and Courtney Before the Kinetograph</td>\n",
       "      <td>Corbett and Courtney Before the Kinetograph</td>\n",
       "      <td>0</td>\n",
       "      <td>1894</td>\n",
       "      <td>\\N</td>\n",
       "      <td>1</td>\n",
       "      <td>Short,Sport</td>\n",
       "    </tr>\n",
       "    <tr>\n",
       "      <td>7</td>\n",
       "      <td>tt0000008</td>\n",
       "      <td>short</td>\n",
       "      <td>Edison Kinetoscopic Record of a Sneeze</td>\n",
       "      <td>Edison Kinetoscopic Record of a Sneeze</td>\n",
       "      <td>0</td>\n",
       "      <td>1894</td>\n",
       "      <td>\\N</td>\n",
       "      <td>1</td>\n",
       "      <td>Documentary,Short</td>\n",
       "    </tr>\n",
       "    <tr>\n",
       "      <td>8</td>\n",
       "      <td>tt0000009</td>\n",
       "      <td>movie</td>\n",
       "      <td>Miss Jerry</td>\n",
       "      <td>Miss Jerry</td>\n",
       "      <td>0</td>\n",
       "      <td>1894</td>\n",
       "      <td>\\N</td>\n",
       "      <td>45</td>\n",
       "      <td>Romance</td>\n",
       "    </tr>\n",
       "    <tr>\n",
       "      <td>9</td>\n",
       "      <td>tt0000010</td>\n",
       "      <td>short</td>\n",
       "      <td>Exiting the Factory</td>\n",
       "      <td>La sortie de l'usine Lumière à Lyon</td>\n",
       "      <td>0</td>\n",
       "      <td>1895</td>\n",
       "      <td>\\N</td>\n",
       "      <td>1</td>\n",
       "      <td>Documentary,Short</td>\n",
       "    </tr>\n",
       "  </tbody>\n",
       "</table>\n",
       "</div>"
      ],
      "text/plain": [
       "      tconst titleType                                 primaryTitle  \\\n",
       "0  tt0000001     short                                   Carmencita   \n",
       "1  tt0000002     short                       Le clown et ses chiens   \n",
       "2  tt0000003     short                               Pauvre Pierrot   \n",
       "3  tt0000004     short                                  Un bon bock   \n",
       "4  tt0000005     short                             Blacksmith Scene   \n",
       "5  tt0000006     short                            Chinese Opium Den   \n",
       "6  tt0000007     short  Corbett and Courtney Before the Kinetograph   \n",
       "7  tt0000008     short       Edison Kinetoscopic Record of a Sneeze   \n",
       "8  tt0000009     movie                                   Miss Jerry   \n",
       "9  tt0000010     short                          Exiting the Factory   \n",
       "\n",
       "                                 originalTitle  isAdult  startYear endYear  \\\n",
       "0                                   Carmencita        0       1894      \\N   \n",
       "1                       Le clown et ses chiens        0       1892      \\N   \n",
       "2                               Pauvre Pierrot        0       1892      \\N   \n",
       "3                                  Un bon bock        0       1892      \\N   \n",
       "4                             Blacksmith Scene        0       1893      \\N   \n",
       "5                            Chinese Opium Den        0       1894      \\N   \n",
       "6  Corbett and Courtney Before the Kinetograph        0       1894      \\N   \n",
       "7       Edison Kinetoscopic Record of a Sneeze        0       1894      \\N   \n",
       "8                                   Miss Jerry        0       1894      \\N   \n",
       "9          La sortie de l'usine Lumière à Lyon        0       1895      \\N   \n",
       "\n",
       "  runtimeMinutes                    genres  \n",
       "0              1         Documentary,Short  \n",
       "1              5           Animation,Short  \n",
       "2              4  Animation,Comedy,Romance  \n",
       "3             \\N           Animation,Short  \n",
       "4              1              Comedy,Short  \n",
       "5              1                     Short  \n",
       "6              1               Short,Sport  \n",
       "7              1         Documentary,Short  \n",
       "8             45                   Romance  \n",
       "9              1         Documentary,Short  "
      ]
     },
     "execution_count": 12,
     "metadata": {},
     "output_type": "execute_result"
    }
   ],
   "source": [
    "data[\"title.basics.tsv.gz\"].head(10)"
   ]
  },
  {
   "cell_type": "code",
   "execution_count": 13,
   "metadata": {},
   "outputs": [
    {
     "data": {
      "text/html": [
       "<div>\n",
       "<style scoped>\n",
       "    .dataframe tbody tr th:only-of-type {\n",
       "        vertical-align: middle;\n",
       "    }\n",
       "\n",
       "    .dataframe tbody tr th {\n",
       "        vertical-align: top;\n",
       "    }\n",
       "\n",
       "    .dataframe thead th {\n",
       "        text-align: right;\n",
       "    }\n",
       "</style>\n",
       "<table border=\"1\" class=\"dataframe\">\n",
       "  <thead>\n",
       "    <tr style=\"text-align: right;\">\n",
       "      <th></th>\n",
       "      <th>tconst</th>\n",
       "      <th>directors</th>\n",
       "      <th>writers</th>\n",
       "    </tr>\n",
       "  </thead>\n",
       "  <tbody>\n",
       "    <tr>\n",
       "      <td>0</td>\n",
       "      <td>tt0000001</td>\n",
       "      <td>nm0005690</td>\n",
       "      <td>\\N</td>\n",
       "    </tr>\n",
       "    <tr>\n",
       "      <td>1</td>\n",
       "      <td>tt0000002</td>\n",
       "      <td>nm0721526</td>\n",
       "      <td>\\N</td>\n",
       "    </tr>\n",
       "    <tr>\n",
       "      <td>2</td>\n",
       "      <td>tt0000003</td>\n",
       "      <td>nm0721526</td>\n",
       "      <td>\\N</td>\n",
       "    </tr>\n",
       "    <tr>\n",
       "      <td>3</td>\n",
       "      <td>tt0000004</td>\n",
       "      <td>nm0721526</td>\n",
       "      <td>\\N</td>\n",
       "    </tr>\n",
       "    <tr>\n",
       "      <td>4</td>\n",
       "      <td>tt0000005</td>\n",
       "      <td>nm0005690</td>\n",
       "      <td>\\N</td>\n",
       "    </tr>\n",
       "    <tr>\n",
       "      <td>5</td>\n",
       "      <td>tt0000006</td>\n",
       "      <td>nm0005690</td>\n",
       "      <td>\\N</td>\n",
       "    </tr>\n",
       "    <tr>\n",
       "      <td>6</td>\n",
       "      <td>tt0000007</td>\n",
       "      <td>nm0005690,nm0374658</td>\n",
       "      <td>\\N</td>\n",
       "    </tr>\n",
       "    <tr>\n",
       "      <td>7</td>\n",
       "      <td>tt0000008</td>\n",
       "      <td>nm0005690</td>\n",
       "      <td>\\N</td>\n",
       "    </tr>\n",
       "    <tr>\n",
       "      <td>8</td>\n",
       "      <td>tt0000009</td>\n",
       "      <td>nm0085156</td>\n",
       "      <td>nm0085156</td>\n",
       "    </tr>\n",
       "    <tr>\n",
       "      <td>9</td>\n",
       "      <td>tt0000010</td>\n",
       "      <td>nm0525910</td>\n",
       "      <td>\\N</td>\n",
       "    </tr>\n",
       "  </tbody>\n",
       "</table>\n",
       "</div>"
      ],
      "text/plain": [
       "      tconst            directors    writers\n",
       "0  tt0000001            nm0005690         \\N\n",
       "1  tt0000002            nm0721526         \\N\n",
       "2  tt0000003            nm0721526         \\N\n",
       "3  tt0000004            nm0721526         \\N\n",
       "4  tt0000005            nm0005690         \\N\n",
       "5  tt0000006            nm0005690         \\N\n",
       "6  tt0000007  nm0005690,nm0374658         \\N\n",
       "7  tt0000008            nm0005690         \\N\n",
       "8  tt0000009            nm0085156  nm0085156\n",
       "9  tt0000010            nm0525910         \\N"
      ]
     },
     "execution_count": 13,
     "metadata": {},
     "output_type": "execute_result"
    }
   ],
   "source": [
    "data[\"title.crew.tsv.gz\"].head(10)"
   ]
  },
  {
   "cell_type": "code",
   "execution_count": 15,
   "metadata": {},
   "outputs": [
    {
     "data": {
      "text/html": [
       "<div>\n",
       "<style scoped>\n",
       "    .dataframe tbody tr th:only-of-type {\n",
       "        vertical-align: middle;\n",
       "    }\n",
       "\n",
       "    .dataframe tbody tr th {\n",
       "        vertical-align: top;\n",
       "    }\n",
       "\n",
       "    .dataframe thead th {\n",
       "        text-align: right;\n",
       "    }\n",
       "</style>\n",
       "<table border=\"1\" class=\"dataframe\">\n",
       "  <thead>\n",
       "    <tr style=\"text-align: right;\">\n",
       "      <th></th>\n",
       "      <th>tconst</th>\n",
       "      <th>parentTconst</th>\n",
       "      <th>seasonNumber</th>\n",
       "      <th>episodeNumber</th>\n",
       "    </tr>\n",
       "  </thead>\n",
       "  <tbody>\n",
       "    <tr>\n",
       "      <td>0</td>\n",
       "      <td>tt0041951</td>\n",
       "      <td>tt0041038</td>\n",
       "      <td>1</td>\n",
       "      <td>9</td>\n",
       "    </tr>\n",
       "    <tr>\n",
       "      <td>1</td>\n",
       "      <td>tt0042816</td>\n",
       "      <td>tt0989125</td>\n",
       "      <td>1</td>\n",
       "      <td>17</td>\n",
       "    </tr>\n",
       "    <tr>\n",
       "      <td>2</td>\n",
       "      <td>tt0042889</td>\n",
       "      <td>tt0989125</td>\n",
       "      <td>\\N</td>\n",
       "      <td>\\N</td>\n",
       "    </tr>\n",
       "    <tr>\n",
       "      <td>3</td>\n",
       "      <td>tt0043426</td>\n",
       "      <td>tt0040051</td>\n",
       "      <td>3</td>\n",
       "      <td>42</td>\n",
       "    </tr>\n",
       "    <tr>\n",
       "      <td>4</td>\n",
       "      <td>tt0043631</td>\n",
       "      <td>tt0989125</td>\n",
       "      <td>2</td>\n",
       "      <td>16</td>\n",
       "    </tr>\n",
       "    <tr>\n",
       "      <td>5</td>\n",
       "      <td>tt0043693</td>\n",
       "      <td>tt0989125</td>\n",
       "      <td>2</td>\n",
       "      <td>8</td>\n",
       "    </tr>\n",
       "    <tr>\n",
       "      <td>6</td>\n",
       "      <td>tt0043710</td>\n",
       "      <td>tt0989125</td>\n",
       "      <td>3</td>\n",
       "      <td>3</td>\n",
       "    </tr>\n",
       "    <tr>\n",
       "      <td>7</td>\n",
       "      <td>tt0044093</td>\n",
       "      <td>tt0959862</td>\n",
       "      <td>1</td>\n",
       "      <td>6</td>\n",
       "    </tr>\n",
       "    <tr>\n",
       "      <td>8</td>\n",
       "      <td>tt0044901</td>\n",
       "      <td>tt0989125</td>\n",
       "      <td>3</td>\n",
       "      <td>46</td>\n",
       "    </tr>\n",
       "    <tr>\n",
       "      <td>9</td>\n",
       "      <td>tt0045519</td>\n",
       "      <td>tt0989125</td>\n",
       "      <td>4</td>\n",
       "      <td>11</td>\n",
       "    </tr>\n",
       "  </tbody>\n",
       "</table>\n",
       "</div>"
      ],
      "text/plain": [
       "      tconst parentTconst seasonNumber episodeNumber\n",
       "0  tt0041951    tt0041038            1             9\n",
       "1  tt0042816    tt0989125            1            17\n",
       "2  tt0042889    tt0989125           \\N            \\N\n",
       "3  tt0043426    tt0040051            3            42\n",
       "4  tt0043631    tt0989125            2            16\n",
       "5  tt0043693    tt0989125            2             8\n",
       "6  tt0043710    tt0989125            3             3\n",
       "7  tt0044093    tt0959862            1             6\n",
       "8  tt0044901    tt0989125            3            46\n",
       "9  tt0045519    tt0989125            4            11"
      ]
     },
     "execution_count": 15,
     "metadata": {},
     "output_type": "execute_result"
    }
   ],
   "source": [
    "data[\"title.episode.tsv.gz\"].head(10)"
   ]
  },
  {
   "cell_type": "code",
   "execution_count": 7,
   "metadata": {},
   "outputs": [
    {
     "data": {
      "text/html": [
       "<div>\n",
       "<style scoped>\n",
       "    .dataframe tbody tr th:only-of-type {\n",
       "        vertical-align: middle;\n",
       "    }\n",
       "\n",
       "    .dataframe tbody tr th {\n",
       "        vertical-align: top;\n",
       "    }\n",
       "\n",
       "    .dataframe thead th {\n",
       "        text-align: right;\n",
       "    }\n",
       "</style>\n",
       "<table border=\"1\" class=\"dataframe\">\n",
       "  <thead>\n",
       "    <tr style=\"text-align: right;\">\n",
       "      <th></th>\n",
       "      <th>tconst</th>\n",
       "      <th>ordering</th>\n",
       "      <th>nconst</th>\n",
       "      <th>category</th>\n",
       "      <th>job</th>\n",
       "      <th>characters</th>\n",
       "    </tr>\n",
       "  </thead>\n",
       "  <tbody>\n",
       "    <tr>\n",
       "      <td>0</td>\n",
       "      <td>tt0000001</td>\n",
       "      <td>1</td>\n",
       "      <td>nm1588970</td>\n",
       "      <td>self</td>\n",
       "      <td>\\N</td>\n",
       "      <td>[\"Herself\"]</td>\n",
       "    </tr>\n",
       "    <tr>\n",
       "      <td>1</td>\n",
       "      <td>tt0000001</td>\n",
       "      <td>2</td>\n",
       "      <td>nm0005690</td>\n",
       "      <td>director</td>\n",
       "      <td>\\N</td>\n",
       "      <td>\\N</td>\n",
       "    </tr>\n",
       "    <tr>\n",
       "      <td>2</td>\n",
       "      <td>tt0000001</td>\n",
       "      <td>3</td>\n",
       "      <td>nm0374658</td>\n",
       "      <td>cinematographer</td>\n",
       "      <td>director of photography</td>\n",
       "      <td>\\N</td>\n",
       "    </tr>\n",
       "    <tr>\n",
       "      <td>3</td>\n",
       "      <td>tt0000002</td>\n",
       "      <td>1</td>\n",
       "      <td>nm0721526</td>\n",
       "      <td>director</td>\n",
       "      <td>\\N</td>\n",
       "      <td>\\N</td>\n",
       "    </tr>\n",
       "    <tr>\n",
       "      <td>4</td>\n",
       "      <td>tt0000002</td>\n",
       "      <td>2</td>\n",
       "      <td>nm1335271</td>\n",
       "      <td>composer</td>\n",
       "      <td>\\N</td>\n",
       "      <td>\\N</td>\n",
       "    </tr>\n",
       "    <tr>\n",
       "      <td>5</td>\n",
       "      <td>tt0000003</td>\n",
       "      <td>1</td>\n",
       "      <td>nm0721526</td>\n",
       "      <td>director</td>\n",
       "      <td>\\N</td>\n",
       "      <td>\\N</td>\n",
       "    </tr>\n",
       "    <tr>\n",
       "      <td>6</td>\n",
       "      <td>tt0000003</td>\n",
       "      <td>2</td>\n",
       "      <td>nm5442194</td>\n",
       "      <td>producer</td>\n",
       "      <td>producer</td>\n",
       "      <td>\\N</td>\n",
       "    </tr>\n",
       "    <tr>\n",
       "      <td>7</td>\n",
       "      <td>tt0000003</td>\n",
       "      <td>3</td>\n",
       "      <td>nm1335271</td>\n",
       "      <td>composer</td>\n",
       "      <td>\\N</td>\n",
       "      <td>\\N</td>\n",
       "    </tr>\n",
       "    <tr>\n",
       "      <td>8</td>\n",
       "      <td>tt0000003</td>\n",
       "      <td>4</td>\n",
       "      <td>nm5442200</td>\n",
       "      <td>editor</td>\n",
       "      <td>\\N</td>\n",
       "      <td>\\N</td>\n",
       "    </tr>\n",
       "    <tr>\n",
       "      <td>9</td>\n",
       "      <td>tt0000004</td>\n",
       "      <td>1</td>\n",
       "      <td>nm0721526</td>\n",
       "      <td>director</td>\n",
       "      <td>\\N</td>\n",
       "      <td>\\N</td>\n",
       "    </tr>\n",
       "    <tr>\n",
       "      <td>10</td>\n",
       "      <td>tt0000004</td>\n",
       "      <td>2</td>\n",
       "      <td>nm1335271</td>\n",
       "      <td>composer</td>\n",
       "      <td>\\N</td>\n",
       "      <td>\\N</td>\n",
       "    </tr>\n",
       "    <tr>\n",
       "      <td>11</td>\n",
       "      <td>tt0000005</td>\n",
       "      <td>1</td>\n",
       "      <td>nm0443482</td>\n",
       "      <td>actor</td>\n",
       "      <td>\\N</td>\n",
       "      <td>[\"Blacksmith\"]</td>\n",
       "    </tr>\n",
       "    <tr>\n",
       "      <td>12</td>\n",
       "      <td>tt0000005</td>\n",
       "      <td>2</td>\n",
       "      <td>nm0653042</td>\n",
       "      <td>actor</td>\n",
       "      <td>\\N</td>\n",
       "      <td>[\"Assistant\"]</td>\n",
       "    </tr>\n",
       "    <tr>\n",
       "      <td>13</td>\n",
       "      <td>tt0000005</td>\n",
       "      <td>3</td>\n",
       "      <td>nm0005690</td>\n",
       "      <td>director</td>\n",
       "      <td>\\N</td>\n",
       "      <td>\\N</td>\n",
       "    </tr>\n",
       "    <tr>\n",
       "      <td>14</td>\n",
       "      <td>tt0000005</td>\n",
       "      <td>4</td>\n",
       "      <td>nm0249379</td>\n",
       "      <td>producer</td>\n",
       "      <td>producer</td>\n",
       "      <td>\\N</td>\n",
       "    </tr>\n",
       "    <tr>\n",
       "      <td>15</td>\n",
       "      <td>tt0000006</td>\n",
       "      <td>1</td>\n",
       "      <td>nm0005690</td>\n",
       "      <td>director</td>\n",
       "      <td>\\N</td>\n",
       "      <td>\\N</td>\n",
       "    </tr>\n",
       "    <tr>\n",
       "      <td>16</td>\n",
       "      <td>tt0000007</td>\n",
       "      <td>1</td>\n",
       "      <td>nm0179163</td>\n",
       "      <td>actor</td>\n",
       "      <td>\\N</td>\n",
       "      <td>\\N</td>\n",
       "    </tr>\n",
       "    <tr>\n",
       "      <td>17</td>\n",
       "      <td>tt0000007</td>\n",
       "      <td>2</td>\n",
       "      <td>nm0183947</td>\n",
       "      <td>actor</td>\n",
       "      <td>\\N</td>\n",
       "      <td>\\N</td>\n",
       "    </tr>\n",
       "    <tr>\n",
       "      <td>18</td>\n",
       "      <td>tt0000007</td>\n",
       "      <td>3</td>\n",
       "      <td>nm0005690</td>\n",
       "      <td>director</td>\n",
       "      <td>\\N</td>\n",
       "      <td>\\N</td>\n",
       "    </tr>\n",
       "    <tr>\n",
       "      <td>19</td>\n",
       "      <td>tt0000007</td>\n",
       "      <td>4</td>\n",
       "      <td>nm0374658</td>\n",
       "      <td>director</td>\n",
       "      <td>\\N</td>\n",
       "      <td>\\N</td>\n",
       "    </tr>\n",
       "  </tbody>\n",
       "</table>\n",
       "</div>"
      ],
      "text/plain": [
       "       tconst  ordering     nconst         category                      job  \\\n",
       "0   tt0000001         1  nm1588970             self                       \\N   \n",
       "1   tt0000001         2  nm0005690         director                       \\N   \n",
       "2   tt0000001         3  nm0374658  cinematographer  director of photography   \n",
       "3   tt0000002         1  nm0721526         director                       \\N   \n",
       "4   tt0000002         2  nm1335271         composer                       \\N   \n",
       "5   tt0000003         1  nm0721526         director                       \\N   \n",
       "6   tt0000003         2  nm5442194         producer                 producer   \n",
       "7   tt0000003         3  nm1335271         composer                       \\N   \n",
       "8   tt0000003         4  nm5442200           editor                       \\N   \n",
       "9   tt0000004         1  nm0721526         director                       \\N   \n",
       "10  tt0000004         2  nm1335271         composer                       \\N   \n",
       "11  tt0000005         1  nm0443482            actor                       \\N   \n",
       "12  tt0000005         2  nm0653042            actor                       \\N   \n",
       "13  tt0000005         3  nm0005690         director                       \\N   \n",
       "14  tt0000005         4  nm0249379         producer                 producer   \n",
       "15  tt0000006         1  nm0005690         director                       \\N   \n",
       "16  tt0000007         1  nm0179163            actor                       \\N   \n",
       "17  tt0000007         2  nm0183947            actor                       \\N   \n",
       "18  tt0000007         3  nm0005690         director                       \\N   \n",
       "19  tt0000007         4  nm0374658         director                       \\N   \n",
       "\n",
       "        characters  \n",
       "0      [\"Herself\"]  \n",
       "1               \\N  \n",
       "2               \\N  \n",
       "3               \\N  \n",
       "4               \\N  \n",
       "5               \\N  \n",
       "6               \\N  \n",
       "7               \\N  \n",
       "8               \\N  \n",
       "9               \\N  \n",
       "10              \\N  \n",
       "11  [\"Blacksmith\"]  \n",
       "12   [\"Assistant\"]  \n",
       "13              \\N  \n",
       "14              \\N  \n",
       "15              \\N  \n",
       "16              \\N  \n",
       "17              \\N  \n",
       "18              \\N  \n",
       "19              \\N  "
      ]
     },
     "execution_count": 7,
     "metadata": {},
     "output_type": "execute_result"
    }
   ],
   "source": [
    "data[\"title.principals.tsv.gz\"].head(20)"
   ]
  },
  {
   "cell_type": "code",
   "execution_count": 16,
   "metadata": {},
   "outputs": [
    {
     "data": {
      "text/html": [
       "<div>\n",
       "<style scoped>\n",
       "    .dataframe tbody tr th:only-of-type {\n",
       "        vertical-align: middle;\n",
       "    }\n",
       "\n",
       "    .dataframe tbody tr th {\n",
       "        vertical-align: top;\n",
       "    }\n",
       "\n",
       "    .dataframe thead th {\n",
       "        text-align: right;\n",
       "    }\n",
       "</style>\n",
       "<table border=\"1\" class=\"dataframe\">\n",
       "  <thead>\n",
       "    <tr style=\"text-align: right;\">\n",
       "      <th></th>\n",
       "      <th>tconst</th>\n",
       "      <th>averageRating</th>\n",
       "      <th>numVotes</th>\n",
       "    </tr>\n",
       "  </thead>\n",
       "  <tbody>\n",
       "    <tr>\n",
       "      <td>0</td>\n",
       "      <td>tt0000001</td>\n",
       "      <td>5.6</td>\n",
       "      <td>1529</td>\n",
       "    </tr>\n",
       "    <tr>\n",
       "      <td>1</td>\n",
       "      <td>tt0000002</td>\n",
       "      <td>6.1</td>\n",
       "      <td>185</td>\n",
       "    </tr>\n",
       "    <tr>\n",
       "      <td>2</td>\n",
       "      <td>tt0000003</td>\n",
       "      <td>6.5</td>\n",
       "      <td>1175</td>\n",
       "    </tr>\n",
       "    <tr>\n",
       "      <td>3</td>\n",
       "      <td>tt0000004</td>\n",
       "      <td>6.2</td>\n",
       "      <td>113</td>\n",
       "    </tr>\n",
       "    <tr>\n",
       "      <td>4</td>\n",
       "      <td>tt0000005</td>\n",
       "      <td>6.1</td>\n",
       "      <td>1892</td>\n",
       "    </tr>\n",
       "    <tr>\n",
       "      <td>5</td>\n",
       "      <td>tt0000006</td>\n",
       "      <td>5.2</td>\n",
       "      <td>102</td>\n",
       "    </tr>\n",
       "    <tr>\n",
       "      <td>6</td>\n",
       "      <td>tt0000007</td>\n",
       "      <td>5.4</td>\n",
       "      <td>609</td>\n",
       "    </tr>\n",
       "    <tr>\n",
       "      <td>7</td>\n",
       "      <td>tt0000008</td>\n",
       "      <td>5.4</td>\n",
       "      <td>1635</td>\n",
       "    </tr>\n",
       "    <tr>\n",
       "      <td>8</td>\n",
       "      <td>tt0000009</td>\n",
       "      <td>5.4</td>\n",
       "      <td>80</td>\n",
       "    </tr>\n",
       "    <tr>\n",
       "      <td>9</td>\n",
       "      <td>tt0000010</td>\n",
       "      <td>6.9</td>\n",
       "      <td>5453</td>\n",
       "    </tr>\n",
       "  </tbody>\n",
       "</table>\n",
       "</div>"
      ],
      "text/plain": [
       "      tconst  averageRating  numVotes\n",
       "0  tt0000001            5.6      1529\n",
       "1  tt0000002            6.1       185\n",
       "2  tt0000003            6.5      1175\n",
       "3  tt0000004            6.2       113\n",
       "4  tt0000005            6.1      1892\n",
       "5  tt0000006            5.2       102\n",
       "6  tt0000007            5.4       609\n",
       "7  tt0000008            5.4      1635\n",
       "8  tt0000009            5.4        80\n",
       "9  tt0000010            6.9      5453"
      ]
     },
     "execution_count": 16,
     "metadata": {},
     "output_type": "execute_result"
    }
   ],
   "source": [
    "data[\"title.ratings.tsv.gz\"].head(10)"
   ]
  },
  {
   "cell_type": "markdown",
   "metadata": {},
   "source": [
    "# Exploration using PySpark"
   ]
  },
  {
   "cell_type": "code",
   "execution_count": 27,
   "metadata": {},
   "outputs": [
    {
     "name": "stdout",
     "output_type": "stream",
     "text": [
      "env: JAVA_HOME=/Users/akshayiyer/Library/Java/JavaVirtualMachines/jdk8u222-b10/Contents/Home\n"
     ]
    }
   ],
   "source": [
    "%set_env JAVA_HOME=/Users/akshayiyer/Library/Java/JavaVirtualMachines/jdk8u222-b10/Contents/Home"
   ]
  },
  {
   "cell_type": "code",
   "execution_count": 28,
   "metadata": {},
   "outputs": [],
   "source": [
    "import configparser\n",
    "import datetime\n",
    "import os\n",
    "from pyspark.sql import SparkSession\n",
    "import pyspark.sql.functions as F\n",
    "from pyspark.sql.types import *\n",
    "import sys\n",
    "\n",
    "sys.path.insert(1, os.path.abspath('../'))\n",
    "import util"
   ]
  },
  {
   "cell_type": "code",
   "execution_count": 29,
   "metadata": {},
   "outputs": [],
   "source": [
    "def create_spark_session(master,endpoint=None):\n",
    "    spark = SparkSession \\\n",
    "            .builder \\\n",
    "            .config(\"spark.jars.packages\", \"org.apache.hadoop:hadoop-aws:2.7.0,io.delta:delta-core_2.11:0.3.0\") \\\n",
    "            .config(\"fs.s3a.endpoint\",endpoint)\\\n",
    "            .config(\"spark.sql.autoBroadcastJoinThreshold\",-1) \\\n",
    "            .appName(\"udacity-dend-capstone-etl-proj\")\\\n",
    "            .master(master)\\\n",
    "            .getOrCreate()\n",
    "    \n",
    "    return spark"
   ]
  },
  {
   "cell_type": "code",
   "execution_count": 30,
   "metadata": {},
   "outputs": [
    {
     "data": {
      "text/html": [
       "\n",
       "            <div>\n",
       "                <p><b>SparkSession - in-memory</b></p>\n",
       "                \n",
       "        <div>\n",
       "            <p><b>SparkContext</b></p>\n",
       "\n",
       "            <p><a href=\"http://192.168.0.11:4040\">Spark UI</a></p>\n",
       "\n",
       "            <dl>\n",
       "              <dt>Version</dt>\n",
       "                <dd><code>v2.4.3</code></dd>\n",
       "              <dt>Master</dt>\n",
       "                <dd><code>spark://127.0.0.1:7077</code></dd>\n",
       "              <dt>AppName</dt>\n",
       "                <dd><code>udacity-dend-capstone-etl-proj</code></dd>\n",
       "            </dl>\n",
       "        </div>\n",
       "        \n",
       "            </div>\n",
       "        "
      ],
      "text/plain": [
       "<pyspark.sql.session.SparkSession at 0x10d985710>"
      ]
     },
     "execution_count": 30,
     "metadata": {},
     "output_type": "execute_result"
    }
   ],
   "source": [
    "#spark://127.0.0.1:7077\n",
    "spark = create_spark_session(\"spark://127.0.0.1:7077\",\"s3.us-west-2.amazonaws.com\")\n",
    "spark"
   ]
  },
  {
   "cell_type": "markdown",
   "metadata": {},
   "source": [
    "## Download files to local directory"
   ]
  },
  {
   "cell_type": "code",
   "execution_count": 5,
   "metadata": {},
   "outputs": [],
   "source": [
    "base_url = 'https://datasets.imdbws.com'\n",
    "\n",
    "files_list = [\n",
    "        \"name.basics.tsv.gz\",\n",
    "        \"title.akas.tsv.gz\",\n",
    "        \"title.basics.tsv.gz\",\n",
    "        \"title.crew.tsv.gz\",\n",
    "        \"title.episode.tsv.gz\",\n",
    "        \"title.principals.tsv.gz\",\n",
    "        \"title.ratings.tsv.gz\"]\n",
    "        \n",
    "download_directory = os.path.abspath(os.path.join(os.path.abspath(''), os.pardir, 'data', 'tmp'))"
   ]
  },
  {
   "cell_type": "code",
   "execution_count": 11,
   "metadata": {},
   "outputs": [],
   "source": [
    "util.download_files_to_local(base_url, files_list, download_directory)"
   ]
  },
  {
   "cell_type": "markdown",
   "metadata": {},
   "source": [
    "## Process name.basics file"
   ]
  },
  {
   "cell_type": "code",
   "execution_count": 9,
   "metadata": {},
   "outputs": [],
   "source": [
    "'''\n",
    "names_schema = StructType([\n",
    "                    StructField('nconst', StringType(), True),\n",
    "                    StructField('primaryName', StringType(), True),\n",
    "                    StructField('birthYear', IntegerType(), True),\n",
    "                    StructField('deathYear', IntegerType(), True),\n",
    "                    StructField('primaryProfession', StringType(), True),\n",
    "                    StructField('knownForTitles', StringType(), True),\n",
    "                    StructField('broken', StringType(), True)\n",
    "                        ])\n",
    "'''\n",
    "\n",
    "temp_filepath = 'file:///Users/akshayiyer/Dev/GitHub/udacity-dend-capstone-etl/data/tmp'\n",
    "file = 'name.basics.tsv.gz'\n",
    "\n",
    "names_df_raw = spark.read.load(\n",
    "    temp_filepath+'/'+file,\n",
    "    format=\"csv\", \n",
    "    sep=\"\\t\", \n",
    "    inferSchema=\"true\", \n",
    "    header=\"true\",\n",
    "    ignoreLeadingWhiteSpace=True,\n",
    "    ignoreTrailingWhiteSpace=True,\n",
    "    nullValue = '\\\\N',\n",
    "    quote = '' # this will ignore using quotes as a qualifier. This helps reduce malformed records. \n",
    ")"
   ]
  },
  {
   "cell_type": "markdown",
   "metadata": {},
   "source": [
    "### Data Exploration"
   ]
  },
  {
   "cell_type": "code",
   "execution_count": 10,
   "metadata": {},
   "outputs": [
    {
     "name": "stdout",
     "output_type": "stream",
     "text": [
      "root\n",
      " |-- nconst: string (nullable = true)\n",
      " |-- primaryName: string (nullable = true)\n",
      " |-- birthYear: integer (nullable = true)\n",
      " |-- deathYear: integer (nullable = true)\n",
      " |-- primaryProfession: string (nullable = true)\n",
      " |-- knownForTitles: string (nullable = true)\n",
      "\n",
      "+---------+---------------+---------+---------+--------------------+--------------------+\n",
      "| artistId|    primaryName|birthYear|deathYear|   primaryProfession|      knownForTitles|\n",
      "+---------+---------------+---------+---------+--------------------+--------------------+\n",
      "|nm0000001|   Fred Astaire|     1899|     1987|soundtrack,actor,...|tt0043044,tt00723...|\n",
      "|nm0000002|  Lauren Bacall|     1924|     2014|  actress,soundtrack|tt0071877,tt01170...|\n",
      "|nm0000003|Brigitte Bardot|     1934|     null|actress,soundtrac...|tt0057345,tt00491...|\n",
      "|nm0000004|   John Belushi|     1949|     1982|actor,writer,soun...|tt0078723,tt00804...|\n",
      "|nm0000005| Ingmar Bergman|     1918|     2007|writer,director,a...|tt0050976,tt00839...|\n",
      "+---------+---------------+---------+---------+--------------------+--------------------+\n",
      "only showing top 5 rows\n",
      "\n"
     ]
    }
   ],
   "source": [
    "names_df_raw.printSchema()\n",
    "names_df = names_df_raw.withColumnRenamed(\"nconst\",\"artistId\")\n",
    "names_df.show(5)"
   ]
  },
  {
   "cell_type": "code",
   "execution_count": 11,
   "metadata": {},
   "outputs": [
    {
     "data": {
      "text/plain": [
       "15"
      ]
     },
     "execution_count": 11,
     "metadata": {},
     "output_type": "execute_result"
    }
   ],
   "source": [
    "names_df.filter(names_df.birthYear < 1000).count()\n",
    "names_df.filter(names_df.deathYear < 1000).count()\n",
    "\n",
    "# For very small number of cases, the birthYear and deathYear is less than 1000 (15 and 18 respectively)\n",
    "# Spot checking a few entries, this mostly seems to be an error in the dataset\n",
    "# Rather than removing these entries, marking these fields as null seems appropriate"
   ]
  },
  {
   "cell_type": "code",
   "execution_count": 24,
   "metadata": {},
   "outputs": [
    {
     "name": "stdout",
     "output_type": "stream",
     "text": [
      "+---------+---------------+------------------------------+---------------------------------------+---------+---------+\n",
      "|artistId |primaryName    |primaryProfession             |knownForTitles                         |birthYear|deathYear|\n",
      "+---------+---------------+------------------------------+---------------------------------------+---------+---------+\n",
      "|nm0000001|Fred Astaire   |soundtrack,actor,miscellaneous|tt0043044,tt0072308,tt0053137,tt0050419|1899     |1987     |\n",
      "|nm0000002|Lauren Bacall  |actress,soundtrack            |tt0071877,tt0117057,tt0038355,tt0037382|1924     |2014     |\n",
      "|nm0000003|Brigitte Bardot|actress,soundtrack,producer   |tt0057345,tt0049189,tt0059956,tt0054452|1934     |null     |\n",
      "|nm0000004|John Belushi   |actor,writer,soundtrack       |tt0078723,tt0080455,tt0077975,tt0072562|1949     |1982     |\n",
      "|nm0000005|Ingmar Bergman |writer,director,actor         |tt0050976,tt0083922,tt0069467,tt0050986|1918     |2007     |\n",
      "|nm0000006|Ingrid Bergman |actress,soundtrack,producer   |tt0071877,tt0036855,tt0038109,tt0038787|1915     |1982     |\n",
      "|nm0000007|Humphrey Bogart|actor,soundtrack,producer     |tt0033870,tt0034583,tt0037382,tt0043265|1899     |1957     |\n",
      "|nm0000008|Marlon Brando  |actor,soundtrack,director     |tt0068646,tt0047296,tt0078788,tt0070849|1924     |2004     |\n",
      "|nm0000009|Richard Burton |actor,producer,soundtrack     |tt0087803,tt0057877,tt0059749,tt0061184|1925     |1984     |\n",
      "|nm0000010|James Cagney   |actor,soundtrack,director     |tt0055256,tt0029870,tt0031867,tt0035575|1899     |1986     |\n",
      "+---------+---------------+------------------------------+---------------------------------------+---------+---------+\n",
      "only showing top 10 rows\n",
      "\n"
     ]
    }
   ],
   "source": [
    "def fix_year(col):\n",
    "    # Get today's date\n",
    "    now = datetime.datetime.now()\n",
    "    \n",
    "    fix_year_func = (\n",
    "                F.when(F.col(col)<1000,None)\n",
    "                 .when(F.col(col)>now.year,None)\n",
    "                 .otherwise(F.col(col))\n",
    "                )\n",
    "    return fix_year_func\n",
    "\n",
    "\n",
    "names_df = names_df.withColumn(\"birthYear_fixed\",fix_year('birthYear'))\\\n",
    "            .drop(\"birthYear\")\\\n",
    "            .withColumnRenamed(\"birthYear_fixed\", \"birthYear\")\n",
    "\n",
    "names_df = names_df.withColumn(\"deathYear_fixed\",fix_year('deathYear'))\\\n",
    "             .drop(\"deathYear\")\\\n",
    "             .withColumnRenamed(\"deathYear_fixed\", \"deathYear\")\n",
    "\n",
    "names_df.show(10, False)"
   ]
  },
  {
   "cell_type": "code",
   "execution_count": 25,
   "metadata": {},
   "outputs": [],
   "source": [
    "artists_df = names_df.select(\"artistId\",\"primaryName\",\"birthYear\",\"deathYear\")\n",
    "artists_prmry_prfsn_df = names_df.select(\"artistId\",\\\n",
    "                                         F.explode(F.split(F.col(\"primaryProfession\"),\",\")).alias(\"primaryProfession\"))\n",
    "artists_knwn_fr_ttls_df = names_df.select(\"artistId\",\n",
    "                                          F.explode(F.split(F.col(\"knownForTitles\"),\",\")).alias(\"knownForTitles\"))"
   ]
  },
  {
   "cell_type": "code",
   "execution_count": 26,
   "metadata": {
    "scrolled": true
   },
   "outputs": [
    {
     "name": "stdout",
     "output_type": "stream",
     "text": [
      "+---------+---------------+---------+---------+\n",
      "| artistId|    primaryName|birthYear|deathYear|\n",
      "+---------+---------------+---------+---------+\n",
      "|nm0000001|   Fred Astaire|     1899|     1987|\n",
      "|nm0000002|  Lauren Bacall|     1924|     2014|\n",
      "|nm0000003|Brigitte Bardot|     1934|     null|\n",
      "|nm0000004|   John Belushi|     1949|     1982|\n",
      "|nm0000005| Ingmar Bergman|     1918|     2007|\n",
      "+---------+---------------+---------+---------+\n",
      "only showing top 5 rows\n",
      "\n",
      "+---------+-----------------+\n",
      "| artistId|primaryProfession|\n",
      "+---------+-----------------+\n",
      "|nm0000001|       soundtrack|\n",
      "|nm0000001|            actor|\n",
      "|nm0000001|    miscellaneous|\n",
      "|nm0000002|          actress|\n",
      "|nm0000002|       soundtrack|\n",
      "+---------+-----------------+\n",
      "only showing top 5 rows\n",
      "\n",
      "+---------+--------------+\n",
      "| artistId|knownForTitles|\n",
      "+---------+--------------+\n",
      "|nm0000001|     tt0043044|\n",
      "|nm0000001|     tt0072308|\n",
      "|nm0000001|     tt0053137|\n",
      "|nm0000001|     tt0050419|\n",
      "|nm0000002|     tt0071877|\n",
      "+---------+--------------+\n",
      "only showing top 5 rows\n",
      "\n"
     ]
    }
   ],
   "source": [
    "artists_df.show(5)\n",
    "artists_prmry_prfsn_df.show(5)\n",
    "artists_knwn_fr_ttls_df.show(5)"
   ]
  },
  {
   "cell_type": "code",
   "execution_count": 27,
   "metadata": {},
   "outputs": [
    {
     "name": "stdout",
     "output_type": "stream",
     "text": [
      "+-------+---------+--------------------+------------------+------------------+\n",
      "|summary| artistId|         primaryName|         birthYear|         deathYear|\n",
      "+-------+---------+--------------------+------------------+------------------+\n",
      "|  count|  9537755|             9537755|            486464|            169619|\n",
      "|   mean|     null|            Infinity|1950.7003293152218|1988.4233900683296|\n",
      "| stddev|     null|                 NaN| 33.18508746296023|29.796695760170913|\n",
      "|    min|nm0000001|!'aru Ikhuisi Pie...|              1048|              1022|\n",
      "|    max|nm9993719|þórunn Ósk Morinó...|              2018|              2019|\n",
      "+-------+---------+--------------------+------------------+------------------+\n",
      "\n"
     ]
    }
   ],
   "source": [
    "artists_df.describe().show(5)"
   ]
  },
  {
   "cell_type": "markdown",
   "metadata": {},
   "source": [
    "### Write dataframes to Parquet"
   ]
  },
  {
   "cell_type": "code",
   "execution_count": 28,
   "metadata": {},
   "outputs": [],
   "source": [
    "save_file_path = 'file:///Users/akshayiyer/Dev/GitHub/udacity-dend-capstone-etl/data/'\n",
    "\n",
    "artists_df.write.mode('overwrite').parquet(save_file_path+\"artists.parquet\")\n",
    "artists_prmry_prfsn_df.write.mode('overwrite').parquet(save_file_path+\"artists_prmry_profession.parquet\")\n",
    "artists_knwn_fr_ttls_df.write.mode('overwrite').parquet(save_file_path+\"artists_knwnfor_titles.parquet\")"
   ]
  },
  {
   "cell_type": "markdown",
   "metadata": {},
   "source": [
    "# Process title.basics file"
   ]
  },
  {
   "cell_type": "code",
   "execution_count": 8,
   "metadata": {},
   "outputs": [],
   "source": [
    "temp_filepath = 'file:///Users/akshayiyer/Dev/GitHub/udacity-dend-capstone-etl/data/tmp'\n",
    "file = 'title.basics.tsv.gz'\n",
    "\n",
    "title_basics_df_raw = spark.read.load(\n",
    "    temp_filepath+'/'+file,\n",
    "    format=\"csv\", \n",
    "    sep=\"\\t\", \n",
    "    inferSchema=\"true\", \n",
    "    header=\"true\",\n",
    "    ignoreLeadingWhiteSpace=True,\n",
    "    ignoreTrailingWhiteSpace=True,\n",
    "    nullValue = '\\\\N',\n",
    "    quote = '' # this will ignore using quotes as a qualifier. This helps reduce malformed records. \n",
    ")"
   ]
  },
  {
   "cell_type": "markdown",
   "metadata": {},
   "source": [
    "### Data Exploration"
   ]
  },
  {
   "cell_type": "code",
   "execution_count": 9,
   "metadata": {},
   "outputs": [
    {
     "name": "stdout",
     "output_type": "stream",
     "text": [
      "root\n",
      " |-- tconst: string (nullable = true)\n",
      " |-- titleType: string (nullable = true)\n",
      " |-- primaryTitle: string (nullable = true)\n",
      " |-- originalTitle: string (nullable = true)\n",
      " |-- isAdult: integer (nullable = true)\n",
      " |-- startYear: integer (nullable = true)\n",
      " |-- endYear: integer (nullable = true)\n",
      " |-- runtimeMinutes: integer (nullable = true)\n",
      " |-- genres: string (nullable = true)\n",
      "\n",
      "+---------+---------+--------------------+--------------------+-------+---------+-------+--------------+--------------------+\n",
      "|  titleId|titleType|        primaryTitle|       originalTitle|isAdult|startYear|endYear|runtimeMinutes|              genres|\n",
      "+---------+---------+--------------------+--------------------+-------+---------+-------+--------------+--------------------+\n",
      "|tt0000001|    short|          Carmencita|          Carmencita|      0|     1894|   null|             1|   Documentary,Short|\n",
      "|tt0000002|    short|Le clown et ses c...|Le clown et ses c...|      0|     1892|   null|             5|     Animation,Short|\n",
      "|tt0000003|    short|      Pauvre Pierrot|      Pauvre Pierrot|      0|     1892|   null|             4|Animation,Comedy,...|\n",
      "|tt0000004|    short|         Un bon bock|         Un bon bock|      0|     1892|   null|          null|     Animation,Short|\n",
      "|tt0000005|    short|    Blacksmith Scene|    Blacksmith Scene|      0|     1893|   null|             1|        Comedy,Short|\n",
      "+---------+---------+--------------------+--------------------+-------+---------+-------+--------------+--------------------+\n",
      "only showing top 5 rows\n",
      "\n"
     ]
    }
   ],
   "source": [
    "title_basics_df_raw.printSchema()\n",
    "title_basics_df = title_basics_df_raw.withColumnRenamed(\"tconst\",\"titleId\")\n",
    "title_basics_df.show(5)"
   ]
  },
  {
   "cell_type": "code",
   "execution_count": 40,
   "metadata": {},
   "outputs": [
    {
     "name": "stdout",
     "output_type": "stream",
     "text": [
      "+-------+------------------+------------------+------------------+\n",
      "|summary|         startYear|           endYear|    runtimeMinutes|\n",
      "+-------+------------------+------------------+------------------+\n",
      "|  count|           5774481|             52199|           1819184|\n",
      "|   mean|2001.1566693179873|2001.4973658499205| 45.22753003544446|\n",
      "| stddev|21.304072129841646|16.874377455258745|120.73609491107416|\n",
      "|    min|              1874|              1924|                 0|\n",
      "|    max|              2115|              2027|            125156|\n",
      "+-------+------------------+------------------+------------------+\n",
      "\n"
     ]
    }
   ],
   "source": [
    "title_basics_df.describe(\"startYear\",\"endYear\",\"runtimeMinutes\").show()"
   ]
  },
  {
   "cell_type": "code",
   "execution_count": 10,
   "metadata": {},
   "outputs": [],
   "source": [
    "titles_df = title_basics_df.select(\"titleId\",\"titleType\",\"primaryTitle\",\"originalTitle\",\\\n",
    "                                   \"isAdult\",\"startYear\",\"endYear\",\"runtimeMinutes\")\n",
    "\n",
    "titles_genres_df = title_basics_df.select(\"titleId\",F.explode(F.split(F.col(\"genres\"),\",\")).alias(\"genres\"))"
   ]
  },
  {
   "cell_type": "code",
   "execution_count": 42,
   "metadata": {},
   "outputs": [
    {
     "name": "stdout",
     "output_type": "stream",
     "text": [
      "+---------+---------+--------------------+--------------------+-------+---------+-------+--------------+\n",
      "|  titleId|titleType|        primaryTitle|       originalTitle|isAdult|startYear|endYear|runtimeMinutes|\n",
      "+---------+---------+--------------------+--------------------+-------+---------+-------+--------------+\n",
      "|tt0000001|    short|          Carmencita|          Carmencita|      0|     1894|   null|             1|\n",
      "|tt0000002|    short|Le clown et ses c...|Le clown et ses c...|      0|     1892|   null|             5|\n",
      "|tt0000003|    short|      Pauvre Pierrot|      Pauvre Pierrot|      0|     1892|   null|             4|\n",
      "|tt0000004|    short|         Un bon bock|         Un bon bock|      0|     1892|   null|          null|\n",
      "|tt0000005|    short|    Blacksmith Scene|    Blacksmith Scene|      0|     1893|   null|             1|\n",
      "+---------+---------+--------------------+--------------------+-------+---------+-------+--------------+\n",
      "only showing top 5 rows\n",
      "\n",
      "+---------+-----------+\n",
      "|  titleId|     genres|\n",
      "+---------+-----------+\n",
      "|tt0000001|Documentary|\n",
      "|tt0000001|      Short|\n",
      "|tt0000002|  Animation|\n",
      "|tt0000002|      Short|\n",
      "|tt0000003|  Animation|\n",
      "+---------+-----------+\n",
      "only showing top 5 rows\n",
      "\n"
     ]
    }
   ],
   "source": [
    "titles_df.show(5)\n",
    "titles_genres_df.show(5)"
   ]
  },
  {
   "cell_type": "markdown",
   "metadata": {},
   "source": [
    "### Write dataframes to Parquet\n"
   ]
  },
  {
   "cell_type": "code",
   "execution_count": 11,
   "metadata": {},
   "outputs": [],
   "source": [
    "save_file_path = 'file:///Users/akshayiyer/Dev/GitHub/udacity-dend-capstone-etl/data/delta/'\n",
    "\n",
    "titles_df.write.format(\"delta\").mode('overwrite').partitionBy(\"startYear\").save(save_file_path+\"titles\")"
   ]
  },
  {
   "cell_type": "code",
   "execution_count": 43,
   "metadata": {},
   "outputs": [],
   "source": [
    "save_file_path = 'file:///Users/akshayiyer/Dev/GitHub/udacity-dend-capstone-etl/data/'\n",
    "\n",
    "titles_df.write.mode('overwrite').partitionBy(\"startYear\").parquet(save_file_path+\"titles.parquet\")\n",
    "titles_genres_df.write.mode('overwrite').parquet(save_file_path+\"titles_genres.parquet\")"
   ]
  },
  {
   "cell_type": "markdown",
   "metadata": {},
   "source": [
    "# Process title.ratings file"
   ]
  },
  {
   "cell_type": "code",
   "execution_count": 7,
   "metadata": {},
   "outputs": [],
   "source": [
    "temp_filepath = 'file:///Users/akshayiyer/Dev/GitHub/udacity-dend-capstone-etl/data/tmp'\n",
    "file = 'title.ratings.tsv.gz'\n",
    "\n",
    "title_ratings_df_raw = spark.read.load(\n",
    "    temp_filepath+'/'+file,\n",
    "    format=\"csv\", \n",
    "    sep=\"\\t\", \n",
    "    inferSchema=\"true\", \n",
    "    header=\"true\",\n",
    "    ignoreLeadingWhiteSpace=True,\n",
    "    ignoreTrailingWhiteSpace=True,\n",
    "    nullValue = '\\\\N',\n",
    "    quote = '' # this will ignore using quotes as a qualifier. This helps reduce malformed records. \n",
    ")"
   ]
  },
  {
   "cell_type": "code",
   "execution_count": 8,
   "metadata": {},
   "outputs": [
    {
     "name": "stdout",
     "output_type": "stream",
     "text": [
      "root\n",
      " |-- tconst: string (nullable = true)\n",
      " |-- averageRating: double (nullable = true)\n",
      " |-- numVotes: integer (nullable = true)\n",
      "\n",
      "+---------+-------------+--------+\n",
      "|  titleId|averageRating|numVotes|\n",
      "+---------+-------------+--------+\n",
      "|tt0000001|          5.6|    1529|\n",
      "|tt0000002|          6.1|     185|\n",
      "|tt0000003|          6.5|    1175|\n",
      "|tt0000004|          6.2|     113|\n",
      "|tt0000005|          6.1|    1892|\n",
      "+---------+-------------+--------+\n",
      "only showing top 5 rows\n",
      "\n"
     ]
    }
   ],
   "source": [
    "title_ratings_df_raw.printSchema()\n",
    "title_ratings_df = title_ratings_df_raw.withColumnRenamed(\"tconst\",\"titleId\")\n",
    "title_ratings_df.show(5)"
   ]
  },
  {
   "cell_type": "code",
   "execution_count": 9,
   "metadata": {},
   "outputs": [],
   "source": [
    "save_file_path = 'file:///Users/akshayiyer/Dev/GitHub/udacity-dend-capstone-etl/data/'\n",
    "\n",
    "title_ratings_df.write.mode('overwrite').parquet(save_file_path+\"title_ratings.parquet\")"
   ]
  },
  {
   "cell_type": "markdown",
   "metadata": {},
   "source": [
    "# Joining titles, title_ratings and title_genres datasets"
   ]
  },
  {
   "cell_type": "code",
   "execution_count": 31,
   "metadata": {},
   "outputs": [],
   "source": [
    "title_ratings_filepath = \"file:///Users/akshayiyer/Dev/GitHub/udacity-dend-capstone-etl/data/title_ratings.parquet\"\n",
    "titles_filepath = \"file:///Users/akshayiyer/Dev/GitHub/udacity-dend-capstone-etl/data/titles.parquet\"\n",
    "title_genres_filepath = \"file:///Users/akshayiyer/Dev/GitHub/udacity-dend-capstone-etl/data/titles_genres.parquet\"\n",
    "\n",
    "title_ratings_df = spark.read.parquet(title_ratings_filepath)\n",
    "titles_df = spark.read.parquet(titles_filepath)\n",
    "title_genres_df = spark.read.parquet(title_genres_filepath)"
   ]
  },
  {
   "cell_type": "code",
   "execution_count": 32,
   "metadata": {},
   "outputs": [],
   "source": [
    "title_genres_ratings_df = titles_df.join(title_ratings_df, \"titleId\").join(title_genres_df,\"titleId\")\n",
    "title_genres_ratings_df = title_genres_ratings_df\\\n",
    "                            .groupBy(\"startYear\",\"genres\")\\\n",
    "                            .agg({\"averageRating\":\"mean\",\"numVotes\":\"sum\",\"titleId\":\"count\"})\\\n",
    "                            .withColumnRenamed(\"avg(averageRating)\",\"averageRating\")\\\n",
    "                            .withColumnRenamed(\"sum(numVotes)\",\"numVotes\")\\\n",
    "                            .withColumnRenamed(\"count(titleId)\",\"numTitles\")"
   ]
  },
  {
   "cell_type": "code",
   "execution_count": 33,
   "metadata": {},
   "outputs": [
    {
     "data": {
      "text/plain": [
       "965853"
      ]
     },
     "execution_count": 33,
     "metadata": {},
     "output_type": "execute_result"
    }
   ],
   "source": [
    "title_ratings_df.count()"
   ]
  },
  {
   "cell_type": "code",
   "execution_count": 34,
   "metadata": {},
   "outputs": [
    {
     "data": {
      "text/plain": [
       "965850"
      ]
     },
     "execution_count": 34,
     "metadata": {},
     "output_type": "execute_result"
    }
   ],
   "source": [
    "titles_df.join(title_ratings_df, \"titleId\").count()"
   ]
  },
  {
   "cell_type": "code",
   "execution_count": 35,
   "metadata": {},
   "outputs": [
    {
     "data": {
      "text/plain": [
       "9284639"
      ]
     },
     "execution_count": 35,
     "metadata": {},
     "output_type": "execute_result"
    }
   ],
   "source": [
    "title_genres_df.count()"
   ]
  },
  {
   "cell_type": "code",
   "execution_count": 36,
   "metadata": {},
   "outputs": [
    {
     "data": {
      "text/plain": [
       "9284639"
      ]
     },
     "execution_count": 36,
     "metadata": {},
     "output_type": "execute_result"
    }
   ],
   "source": [
    "titles_df.join(title_genres_df,\"titleId\").count()"
   ]
  },
  {
   "cell_type": "code",
   "execution_count": 37,
   "metadata": {},
   "outputs": [
    {
     "data": {
      "text/plain": [
       "3102"
      ]
     },
     "execution_count": 37,
     "metadata": {},
     "output_type": "execute_result"
    }
   ],
   "source": [
    "title_genres_ratings_df.count()"
   ]
  },
  {
   "cell_type": "code",
   "execution_count": 38,
   "metadata": {},
   "outputs": [],
   "source": [
    "title_ratings_sql_df = title_ratings_df.createOrReplaceTempView(\"title_ratings_df\")\n",
    "titles_sql_df = titles_df.createOrReplaceTempView(\"titles\")\n",
    "title_genres_sql_df = title_genres_df.createOrReplaceTempView(\"title_genres\")"
   ]
  },
  {
   "cell_type": "code",
   "execution_count": 39,
   "metadata": {},
   "outputs": [
    {
     "name": "stdout",
     "output_type": "stream",
     "text": [
      "+-----------------------+\n",
      "|count(DISTINCT titleId)|\n",
      "+-----------------------+\n",
      "|                5631946|\n",
      "+-----------------------+\n",
      "\n",
      "+-----------------------+\n",
      "|count(DISTINCT titleId)|\n",
      "+-----------------------+\n",
      "|                6117678|\n",
      "+-----------------------+\n",
      "\n",
      "+-----------------------+\n",
      "|count(DISTINCT titleId)|\n",
      "+-----------------------+\n",
      "|                 965853|\n",
      "+-----------------------+\n",
      "\n"
     ]
    }
   ],
   "source": [
    "spark.sql('''\n",
    "select count(distinct titleId)\n",
    "from title_genres\n",
    "''').show()\n",
    "\n",
    "spark.sql('''\n",
    "select count(distinct titleId)\n",
    "from titles\n",
    "''').show()\n",
    "\n",
    "spark.sql('''\n",
    "select count(distinct titleId)\n",
    "from title_ratings_df\n",
    "''').show()"
   ]
  },
  {
   "cell_type": "code",
   "execution_count": 48,
   "metadata": {},
   "outputs": [
    {
     "name": "stdout",
     "output_type": "stream",
     "text": [
      "+---------+-------------+--------+\n",
      "|  titleId|averageRating|numVotes|\n",
      "+---------+-------------+--------+\n",
      "|tt7820738|          7.9|      18|\n",
      "|tt5607886|          8.6|       7|\n",
      "|tt9315000|          5.8|     181|\n",
      "+---------+-------------+--------+\n",
      "\n"
     ]
    }
   ],
   "source": [
    "spark.sql('''\n",
    "select tr.*\n",
    "from title_ratings_df tr\n",
    "left join titles t on tr.titleId = t.titleId\n",
    "where t.titleId is null\n",
    "''').show()"
   ]
  },
  {
   "cell_type": "code",
   "execution_count": 44,
   "metadata": {},
   "outputs": [],
   "source": [
    "title_genres_ratings_df = spark.sql('''\n",
    "select tr.titleId, tr.averageRating, tr.numVotes, tg.genres, t.startYear\n",
    "from title_ratings_df tr\n",
    "inner join title_genres tg on tr.titleId = tg.titleId\n",
    "inner join titles t on tg.titleId = t.titleId\n",
    "''')"
   ]
  },
  {
   "cell_type": "code",
   "execution_count": 45,
   "metadata": {},
   "outputs": [
    {
     "data": {
      "text/plain": [
       "1860006"
      ]
     },
     "execution_count": 45,
     "metadata": {},
     "output_type": "execute_result"
    }
   ],
   "source": [
    "title_genres_ratings_df.count()"
   ]
  },
  {
   "cell_type": "code",
   "execution_count": 46,
   "metadata": {},
   "outputs": [],
   "source": [
    "title_genres_ratings_df = title_genres_ratings_df\\\n",
    "                            .groupBy(\"startYear\",\"genres\")\\\n",
    "                            .agg({\"averageRating\":\"mean\",\"numVotes\":\"sum\",\"titleId\":\"count\"})\\\n",
    "                            .withColumnRenamed(\"avg(averageRating)\",\"averageRating\")\\\n",
    "                            .withColumnRenamed(\"sum(numVotes)\",\"numVotes\")\\\n",
    "                            .withColumnRenamed(\"count(titleId)\",\"numTitles\")"
   ]
  },
  {
   "cell_type": "code",
   "execution_count": 47,
   "metadata": {},
   "outputs": [
    {
     "data": {
      "text/plain": [
       "3102"
      ]
     },
     "execution_count": 47,
     "metadata": {},
     "output_type": "execute_result"
    }
   ],
   "source": [
    "title_genres_ratings_df.count()"
   ]
  },
  {
   "cell_type": "code",
   "execution_count": 29,
   "metadata": {},
   "outputs": [],
   "source": [
    "save_file_path = 'file:///Users/akshayiyer/Dev/GitHub/udacity-dend-capstone-etl/data/'\n",
    "\n",
    "title_genres_ratings\\\n",
    "    .write.mode('overwrite')\\\n",
    "    .partitionBy(\"startYear\")\\\n",
    "    .parquet(save_file_path+\"title_genres_ratings.parquet\")"
   ]
  },
  {
   "cell_type": "markdown",
   "metadata": {},
   "source": [
    "# Join title and title_ratings to get top 3 movies by year"
   ]
  },
  {
   "cell_type": "code",
   "execution_count": 35,
   "metadata": {},
   "outputs": [],
   "source": [
    "base_path = os.path.join(os.path.abspath(''), os.pardir, os.pardir)\n",
    "\n",
    "save_filepath = os.path.abspath(os.path.join(base_path, 'data', 'delta'))\n",
    "\n",
    "temp_filepath = os.path.abspath(os.path.join(base_path, 'data', 'tmp'))"
   ]
  },
  {
   "cell_type": "code",
   "execution_count": 36,
   "metadata": {},
   "outputs": [],
   "source": [
    "title_df = spark.read.format(\"delta\").load(os.path.join(save_filepath,'titles'))\n",
    "title_ratings_df = spark.read.format(\"delta\").load(os.path.join(save_filepath,'title_ratings'))"
   ]
  },
  {
   "cell_type": "code",
   "execution_count": 40,
   "metadata": {},
   "outputs": [],
   "source": [
    "title_df.createOrReplaceTempView(\"titles\")\n",
    "title_ratings_df.createOrReplaceTempView(\"title_ratings\")"
   ]
  },
  {
   "cell_type": "code",
   "execution_count": 41,
   "metadata": {},
   "outputs": [
    {
     "name": "stdout",
     "output_type": "stream",
     "text": [
      "root\n",
      " |-- titleId: string (nullable = true)\n",
      " |-- titleType: string (nullable = true)\n",
      " |-- primaryTitle: string (nullable = true)\n",
      " |-- originalTitle: string (nullable = true)\n",
      " |-- isAdult: integer (nullable = true)\n",
      " |-- startYear: integer (nullable = true)\n",
      " |-- endYear: integer (nullable = true)\n",
      " |-- runtimeMinutes: integer (nullable = true)\n",
      "\n"
     ]
    }
   ],
   "source": [
    "title_df.printSchema()"
   ]
  },
  {
   "cell_type": "code",
   "execution_count": 42,
   "metadata": {},
   "outputs": [
    {
     "name": "stdout",
     "output_type": "stream",
     "text": [
      "root\n",
      " |-- titleId: string (nullable = true)\n",
      " |-- averageRating: double (nullable = true)\n",
      " |-- numVotes: integer (nullable = true)\n",
      "\n"
     ]
    }
   ],
   "source": [
    "title_ratings_df.printSchema()"
   ]
  },
  {
   "cell_type": "code",
   "execution_count": 39,
   "metadata": {},
   "outputs": [
    {
     "name": "stdout",
     "output_type": "stream",
     "text": [
      "+------------+\n",
      "|   titleType|\n",
      "+------------+\n",
      "|    tvSeries|\n",
      "|tvMiniSeries|\n",
      "|     tvMovie|\n",
      "|   tvEpisode|\n",
      "|       movie|\n",
      "|   tvSpecial|\n",
      "|       video|\n",
      "|   videoGame|\n",
      "|     tvShort|\n",
      "|       short|\n",
      "+------------+\n",
      "\n"
     ]
    }
   ],
   "source": [
    "spark.sql('''\n",
    "select distinct titleType\n",
    "from titles\n",
    "''').show()"
   ]
  },
  {
   "cell_type": "code",
   "execution_count": 46,
   "metadata": {},
   "outputs": [],
   "source": [
    "top_5_movies_by_year_df = spark.sql('''\n",
    "select \n",
    "    titleId, \n",
    "    titleType,\n",
    "    startYear,\n",
    "    primaryTitle,\n",
    "    averageRating,\n",
    "    numVotes,\n",
    "    rank\n",
    "from (\n",
    "    select \n",
    "        t.titleId, \n",
    "        t.titleType,\n",
    "        t.startYear,\n",
    "        t.primaryTitle,\n",
    "        tr.averageRating,\n",
    "        tr.numVotes,\n",
    "        rank() over (partition by t.titleType, t.startYear order by averageRating desc) as rank\n",
    "    from titles t\n",
    "    inner join title_ratings tr \n",
    "        on t.titleId = tr.titleId\n",
    "    where t.titleType in ('movie', 'tvMovie')) tmp\n",
    "where rank < 6\n",
    "''')"
   ]
  },
  {
   "cell_type": "code",
   "execution_count": null,
   "metadata": {},
   "outputs": [],
   "source": []
  }
 ],
 "metadata": {
  "kernelspec": {
   "display_name": "Python3 (udacity-capstone-etl)",
   "language": "python",
   "name": "udacity-dend-capstone-etl"
  },
  "language_info": {
   "codemirror_mode": {
    "name": "ipython",
    "version": 3
   },
   "file_extension": ".py",
   "mimetype": "text/x-python",
   "name": "python",
   "nbconvert_exporter": "python",
   "pygments_lexer": "ipython3",
   "version": "3.7.0"
  }
 },
 "nbformat": 4,
 "nbformat_minor": 2
}
